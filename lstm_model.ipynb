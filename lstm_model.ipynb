import numpy as np
import pandas as pd
from keras.models import Sequential
from keras.layers import LSTM, Dense
from sklearn.preprocessing import MinMaxScaler

# Load data
df = pd.read_csv('data/processed/cleaned_sales.csv', index_col='date', parse_dates=True)
scaler = MinMaxScaler()
scaled_data = scaler.fit_transform(df[['sales']])

# Prepare sequences
X, y = [], []
for i in range(12, len(scaled_data)):
    X.append(scaled_data[i-12:i])
    y.append(scaled_data[i])
X, y = np.array(X), np.array(y)

# LSTM model
model = Sequential()
model.add(LSTM(50, return_sequences=False, input_shape=(X.shape[1], 1)))
model.add(Dense(1))
model.compile(optimizer='adam', loss='mse')
model.fit(X, y, epochs=30, batch_size=16)

# Save model
model.save('models/lstm_model.h5')
