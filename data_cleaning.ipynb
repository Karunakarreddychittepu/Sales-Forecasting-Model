import pandas as pd

# Load raw data
df = pd.read_csv('data/raw/sales.csv', parse_dates=['date'])

# Basic cleanup
df = df.dropna()
df['sales'] = df['sales'].astype(float)
df.set_index('date', inplace=True)

# Save cleaned data
df.to_csv('data/processed/cleaned_sales.csv')
