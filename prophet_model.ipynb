from prophet import Prophet
import pandas as pd

df = pd.read_csv('data/processed/cleaned_sales.csv')
df.rename(columns={'date': 'ds', 'sales': 'y'}, inplace=True)

model = Prophet()
model.fit(df)

future = model.make_future_dataframe(periods=12, freq='M')
forecast = model.predict(future)

model.plot(forecast)
plt.savefig('images/prophet_forecast.png')
