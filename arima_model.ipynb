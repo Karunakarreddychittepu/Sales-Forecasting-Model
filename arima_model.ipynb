from statsmodels.tsa.arima.model import ARIMA
import pandas as pd

df = pd.read_csv('data/processed/cleaned_sales.csv', index_col='date', parse_dates=True)

model = ARIMA(df['sales'], order=(5, 1, 0))
model_fit = model.fit()
forecast = model_fit.forecast(steps=12)

# Save model and forecast
model_fit.save('models/arima_model.pkl')
forecast.to_csv('results/arima_forecast.csv')
