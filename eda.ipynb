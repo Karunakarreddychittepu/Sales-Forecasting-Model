import pandas as pd
import matplotlib.pyplot as plt
from statsmodels.tsa.seasonal import seasonal_decompose

df = pd.read_csv('data/processed/cleaned_sales.csv', index_col='date', parse_dates=True)

# Decomposition
result = seasonal_decompose(df['sales'], model='additive', period=12)
result.plot()
plt.tight_layout()
plt.savefig('images/decomposition.png')
plt.show()
